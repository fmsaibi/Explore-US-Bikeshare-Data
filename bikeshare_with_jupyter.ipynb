{
 "cells": [
  {
   "cell_type": "markdown",
   "metadata": {},
   "source": [
    "# Bikeshare APP"
   ]
  },
  {
   "cell_type": "code",
   "execution_count": 1,
   "metadata": {},
   "outputs": [],
   "source": [
    "\"\"\"\n",
    "Bikeshare\n",
    "\"\"\"\n",
    "from app.controller.backshare_controller import BackshareController\n",
    "controller = BackshareController()"
   ]
  },
  {
   "cell_type": "markdown",
   "metadata": {},
   "source": [
    "#### Hello! Let's explore some US bikeshare data!"
   ]
  },
  {
   "cell_type": "markdown",
   "metadata": {},
   "source": [
    "#### City Menu"
   ]
  },
  {
   "cell_type": "code",
   "execution_count": 2,
   "metadata": {},
   "outputs": [
    {
     "name": "stdout",
     "output_type": "stream",
     "text": [
      "Which city you like to see the data for?\n",
      "1. Chicago\n",
      "2. New York City\n",
      "3. Washington\n",
      "\n",
      "----------------------------------------\n",
      "\n"
     ]
    }
   ],
   "source": [
    "controller.city_menu()"
   ]
  },
  {
   "cell_type": "markdown",
   "metadata": {},
   "source": [
    "#### Period Menu"
   ]
  },
  {
   "cell_type": "code",
   "execution_count": 3,
   "metadata": {},
   "outputs": [
    {
     "name": "stdout",
     "output_type": "stream",
     "text": [
      "Which day of the week you like to filter the data?\n",
      "1. Month\n",
      "2. Day\n",
      "3. Both\n",
      "4. None\n",
      "\n",
      "----------------------------------------\n",
      "\n"
     ]
    }
   ],
   "source": [
    "controller.period_menu()"
   ]
  },
  {
   "cell_type": "markdown",
   "metadata": {},
   "source": [
    "#### Month Menu"
   ]
  },
  {
   "cell_type": "code",
   "execution_count": 4,
   "metadata": {},
   "outputs": [
    {
     "name": "stdout",
     "output_type": "stream",
     "text": [
      "Which Month would you like to filter the data?\n",
      "1. January\n",
      "2. February\n",
      "3. March\n",
      "4. April\n",
      "5. May\n",
      "6. June\n",
      "\n",
      "----------------------------------------\n",
      "\n"
     ]
    }
   ],
   "source": [
    "controller.month_menu()"
   ]
  },
  {
   "cell_type": "markdown",
   "metadata": {},
   "source": [
    "#### Day Menu"
   ]
  },
  {
   "cell_type": "code",
   "execution_count": 5,
   "metadata": {},
   "outputs": [],
   "source": [
    "controller.day_menu()"
   ]
  },
  {
   "cell_type": "markdown",
   "metadata": {},
   "source": [
    "#### Loading Data"
   ]
  },
  {
   "cell_type": "code",
   "execution_count": 6,
   "metadata": {},
   "outputs": [],
   "source": [
    "controller.load_data()"
   ]
  },
  {
   "cell_type": "markdown",
   "metadata": {},
   "source": [
    "### Time Travel Statistics"
   ]
  },
  {
   "cell_type": "code",
   "execution_count": 7,
   "metadata": {},
   "outputs": [
    {
     "name": "stdout",
     "output_type": "stream",
     "text": [
      "\n",
      "Calculating The Most Frequent Times of Travel...\n",
      "\n",
      "                                                               \n",
      "Most popular day of the week        :                   Tuesday\n",
      "Most popular hour of the Month      :                        17\n",
      "                                                               \n",
      "This took (seconds)                 :     0.0035219192504882812\n",
      "\n",
      "----------------------------------------\n",
      "\n"
     ]
    }
   ],
   "source": [
    "controller.display_time_travel_statistics()"
   ]
  },
  {
   "cell_type": "markdown",
   "metadata": {},
   "source": [
    "### Statistics on Popular stations and trip"
   ]
  },
  {
   "cell_type": "code",
   "execution_count": 8,
   "metadata": {},
   "outputs": [
    {
     "name": "stdout",
     "output_type": "stream",
     "text": [
      "\n",
      "Calculating The Most Frequent Times of Travel...\n",
      "\n",
      "                                                               \n",
      "Most popular day of the week        :                   Tuesday\n",
      "Most popular hour of the Month      :                        17\n",
      "                                                               \n",
      "This took (seconds)                 :     0.0020902156829833984\n",
      "\n",
      "----------------------------------------\n",
      "\n"
     ]
    }
   ],
   "source": [
    "controller.display_time_travel_statistics()"
   ]
  },
  {
   "cell_type": "markdown",
   "metadata": {},
   "source": [
    "### statistics on the total and average trip duration"
   ]
  },
  {
   "cell_type": "code",
   "execution_count": 9,
   "metadata": {},
   "outputs": [
    {
     "name": "stdout",
     "output_type": "stream",
     "text": [
      "\n",
      "Calculating Trip Duration...\n",
      "\n",
      "                                                                      \n",
      "Total travel time (Hours)                  :                  14826150\n",
      "The average(mean) travel time (Hours)      :                679.817965\n",
      "                                                                      \n",
      "This took (seconds)                        :     0.0007050037384033203\n",
      "\n",
      "----------------------------------------\n",
      "\n"
     ]
    }
   ],
   "source": [
    "controller.display_duration_statistics()"
   ]
  },
  {
   "cell_type": "markdown",
   "metadata": {},
   "source": [
    "### Statistics on bikeshare users"
   ]
  },
  {
   "cell_type": "code",
   "execution_count": 10,
   "metadata": {},
   "outputs": [
    {
     "name": "stdout",
     "output_type": "stream",
     "text": [
      "\n",
      "Calculating User Stats...\n",
      "\n",
      "                                                              \n",
      "User Type                                                     \n",
      "Total counts of all user types      :                    21809\n",
      "Total counts of Customer            :                     1015\n",
      "Total counts of Subscriber          :                    20794\n",
      "Gender                                                        \n",
      "Total counts of all gender          :                    20804\n",
      "Total counts of Female              :                     4059\n",
      "Total counts of Male                :                    16745\n",
      "Birth Year                                                    \n",
      "The oldest year of birth            :                   1899.0\n",
      "Most recent year of birth           :                   2000.0\n",
      "Most command year of birth          :                   1989.0\n",
      "                                                              \n",
      "This took (seconds)                 :     0.005944013595581055\n",
      "\n",
      "----------------------------------------\n",
      "\n"
     ]
    }
   ],
   "source": [
    "controller.display_user_stats_statistics()"
   ]
  },
  {
   "cell_type": "markdown",
   "metadata": {},
   "source": [
    "### Individual trip statistics"
   ]
  },
  {
   "cell_type": "code",
   "execution_count": 11,
   "metadata": {},
   "outputs": [
    {
     "name": "stdout",
     "output_type": "stream",
     "text": [
      "Would you like to view 5 rows of individual trip data?\n",
      "1. Yes\n",
      "2. No\n",
      "\n",
      "----------------------------------------\n",
      "\n",
      "    Unnamed: 0          Start Time             End Time  Trip Duration  \\\n",
      "2         9031 2017-01-04 08:27:49  2017-01-04 08:34:45            416   \n",
      "4        45207 2017-01-17 14:53:07  2017-01-17 15:02:01            534   \n",
      "7        65924 2017-01-21 14:28:38  2017-01-21 14:40:41            723   \n",
      "11       71678 2017-01-22 15:15:45  2017-01-22 15:31:02            917   \n",
      "12       19061 2017-01-08 16:03:00  2017-01-08 16:07:37            277   \n",
      "\n",
      "                     Start Station                   End Station   User Type  \\\n",
      "2               May St & Taylor St           Wood St & Taylor St  Subscriber   \n",
      "4           Clark St & Randolph St  Desplaines St & Jackson Blvd  Subscriber   \n",
      "7       Larrabee St & Kingsbury St    Larrabee St & Armitage Ave    Customer   \n",
      "11  Southport Ave & Wellington Ave        Clark St & Schiller St  Subscriber   \n",
      "12           Green St & Madison St      Ada St & Washington Blvd  Subscriber   \n",
      "\n",
      "   Gender  Birth Year  \n",
      "2    Male      1981.0  \n",
      "4    Male      1975.0  \n",
      "7     NaN         NaN  \n",
      "11   Male      1964.0  \n",
      "12   Male      1961.0  \n",
      "\n",
      "----------------------------------------\n",
      "\n",
      "Would you like to view 5 rows of individual trip data?\n",
      "1. Yes\n",
      "2. No\n",
      "\n",
      "----------------------------------------\n",
      "\n"
     ]
    }
   ],
   "source": [
    "controller.display_individual_trip_statistics()"
   ]
  },
  {
   "cell_type": "markdown",
   "metadata": {},
   "source": [
    "### Reset data"
   ]
  },
  {
   "cell_type": "code",
   "execution_count": 12,
   "metadata": {},
   "outputs": [],
   "source": [
    "controller.reset_data()"
   ]
  }
 ],
 "metadata": {
  "kernelspec": {
   "display_name": "Python 3 (ipykernel)",
   "language": "python",
   "name": "python3"
  },
  "language_info": {
   "codemirror_mode": {
    "name": "ipython",
    "version": 3
   },
   "file_extension": ".py",
   "mimetype": "text/x-python",
   "name": "python",
   "nbconvert_exporter": "python",
   "pygments_lexer": "ipython3",
   "version": "3.8.18"
  }
 },
 "nbformat": 4,
 "nbformat_minor": 2
}
