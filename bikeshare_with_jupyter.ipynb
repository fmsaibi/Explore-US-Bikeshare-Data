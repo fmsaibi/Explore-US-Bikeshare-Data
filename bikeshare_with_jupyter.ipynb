{
 "cells": [
  {
   "cell_type": "code",
   "execution_count": 1,
   "metadata": {},
   "outputs": [],
   "source": [
    "\"\"\"\n",
    "Bikeshare\n",
    "\"\"\"\n",
    "from app.controller.backshare_controller import BackshareController\n",
    "controller = BackshareController()"
   ]
  },
  {
   "cell_type": "markdown",
   "metadata": {},
   "source": [
    "# Bikeshare APP"
   ]
  },
  {
   "cell_type": "markdown",
   "metadata": {},
   "source": [
    "#### Hello! Let's explore some US bikeshare data!"
   ]
  },
  {
   "cell_type": "code",
   "execution_count": 2,
   "metadata": {},
   "outputs": [
    {
     "name": "stdout",
     "output_type": "stream",
     "text": [
      "Which city you like to see the data for?\n",
      "1. Chicago\n",
      "2. New York City\n",
      "3. Washington\n",
      "\n",
      "----------------------------------------\n",
      "\n",
      "How would you like to filter the data?\n",
      "1. Month\n",
      "2. Day\n",
      "3. Both\n",
      "4. None\n",
      "\n",
      "----------------------------------------\n",
      "\n",
      "How would you like to filter the data?\n",
      "1. Monday\n",
      "2. Tuesday\n",
      "3. Wednesday\n",
      "4. Thursday\n",
      "5. Friday\n",
      "6. Saturday\n",
      "7. Sunday\n",
      "\n",
      "----------------------------------------\n",
      "\n"
     ]
    }
   ],
   "source": [
    "controller.city_menu()\n",
    "controller.period_menu()\n",
    "controller.month_menu()\n",
    "controller.day_menu()\n",
    "controller.load_data()\n"
   ]
  },
  {
   "cell_type": "markdown",
   "metadata": {},
   "source": [
    "### Time Travel Statistics"
   ]
  },
  {
   "cell_type": "code",
   "execution_count": 3,
   "metadata": {},
   "outputs": [
    {
     "name": "stdout",
     "output_type": "stream",
     "text": [
      "\n",
      "Calculating The Most Frequent Times of Travel...\n",
      "\n",
      "                                                              \n",
      "Most Popular Month                  :                        6\n",
      "Most popular hour of the Month      :                       17\n",
      "                                                              \n",
      "This took (seconds)                 :     0.001049041748046875\n",
      "\n",
      "----------------------------------------\n",
      "\n"
     ]
    }
   ],
   "source": [
    "controller.display_time_travel_statistics()"
   ]
  },
  {
   "cell_type": "markdown",
   "metadata": {},
   "source": [
    "### Statistics on Popular stations and trip"
   ]
  },
  {
   "cell_type": "code",
   "execution_count": 4,
   "metadata": {},
   "outputs": [
    {
     "name": "stdout",
     "output_type": "stream",
     "text": [
      "\n",
      "Calculating The Most Frequent Times of Travel...\n",
      "\n",
      "                                                                \n",
      "Most Popular Month                  :                          6\n",
      "Most popular hour of the Month      :                         17\n",
      "                                                                \n",
      "This took (seconds)                 :     0.00047016143798828125\n",
      "\n",
      "----------------------------------------\n",
      "\n"
     ]
    }
   ],
   "source": [
    "controller.display_time_travel_statistics()"
   ]
  },
  {
   "cell_type": "markdown",
   "metadata": {},
   "source": [
    "### statistics on the total and average trip duration"
   ]
  },
  {
   "cell_type": "code",
   "execution_count": 5,
   "metadata": {},
   "outputs": [
    {
     "name": "stdout",
     "output_type": "stream",
     "text": [
      "\n",
      "Calculating Trip Duration...\n",
      "\n",
      "                                                                      \n",
      "Total travel time (Hours)                  :                  39945856\n",
      "The average(mean) travel time (Hours)      :                890.039348\n",
      "                                                                      \n",
      "This took (seconds)                        :     0.0007500648498535156\n",
      "\n",
      "----------------------------------------\n",
      "\n"
     ]
    }
   ],
   "source": [
    "controller.display_duration_statistics()"
   ]
  },
  {
   "cell_type": "markdown",
   "metadata": {},
   "source": [
    "### Statistics on bikeshare users"
   ]
  },
  {
   "cell_type": "code",
   "execution_count": 6,
   "metadata": {},
   "outputs": [
    {
     "name": "stdout",
     "output_type": "stream",
     "text": [
      "\n",
      "Calculating User Stats...\n",
      "\n",
      "                                                              \n",
      "User Type                                                     \n",
      "Total counts of all user types      :                    44881\n",
      "Total counts of Customer            :                     7565\n",
      "Total counts of Subscriber          :                    37316\n",
      "Gender                                                        \n",
      "Total counts of all gender          :                    37335\n",
      "Total counts of Female              :                     8689\n",
      "Total counts of Male                :                    28646\n",
      "Birth Year                                                    \n",
      "The oldest year of birth            :                   1899.0\n",
      "Most recent year of birth           :                   2016.0\n",
      "Most command year of birth          :                   1989.0\n",
      "                                                              \n",
      "This took (seconds)                 :     0.009356975555419922\n",
      "\n",
      "----------------------------------------\n",
      "\n"
     ]
    }
   ],
   "source": [
    "controller.display_user_stats_statistics()"
   ]
  },
  {
   "cell_type": "markdown",
   "metadata": {},
   "source": [
    "### Reset data"
   ]
  },
  {
   "cell_type": "code",
   "execution_count": 7,
   "metadata": {},
   "outputs": [],
   "source": [
    "controller.reset_data()"
   ]
  },
  {
   "cell_type": "markdown",
   "metadata": {},
   "source": [
    "<!-- On tables -->\n",
    "<table class=\"table-primary\">...</table>\n",
    "<table class=\"table-secondary\">...</table>\n",
    "<table class=\"table-success\">...</table>\n",
    "<table class=\"table-danger\">...</table>\n",
    "<table class=\"table-warning\">...</table>\n",
    "<table class=\"table-info\">...</table>\n",
    "<table class=\"table-light\">...</table>\n",
    "<table class=\"table-dark\">...</table>\n",
    "\n",
    "<!-- On rows -->\n",
    "<tr class=\"table-primary\">...</tr>\n",
    "<tr class=\"table-secondary\">...</tr>\n",
    "<tr class=\"table-success\">...</tr>\n",
    "<tr class=\"table-danger\">...</tr>\n",
    "<tr class=\"table-warning\">...</tr>\n",
    "<tr class=\"table-info\">...</tr>\n",
    "<tr class=\"table-light\">...</tr>\n",
    "<tr class=\"table-dark\">...</tr>\n",
    "\n",
    "<!-- On cells (`td` or `th`) -->\n",
    "<tr>\n",
    "  <td class=\"table-primary\">...</td>\n",
    "  <td class=\"table-secondary\">...</td>\n",
    "  <td class=\"table-success\">...</td>\n",
    "  <td class=\"table-danger\">...</td>\n",
    "  <td class=\"table-warning\">...</td>\n",
    "  <td class=\"table-info\">...</td>\n",
    "  <td class=\"table-light\">...</td>\n",
    "  <td class=\"table-dark\">...</td>\n",
    "</tr>"
   ]
  }
 ],
 "metadata": {
  "kernelspec": {
   "display_name": "Python 3 (ipykernel)",
   "language": "python",
   "name": "python3"
  },
  "language_info": {
   "codemirror_mode": {
    "name": "ipython",
    "version": 3
   },
   "file_extension": ".py",
   "mimetype": "text/x-python",
   "name": "python",
   "nbconvert_exporter": "python",
   "pygments_lexer": "ipython3",
   "version": "3.8.18"
  }
 },
 "nbformat": 4,
 "nbformat_minor": 2
}
